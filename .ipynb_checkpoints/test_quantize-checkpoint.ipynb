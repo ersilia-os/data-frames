{
 "cells": [
  {
   "cell_type": "code",
   "execution_count": null,
   "id": "871e4628-71a3-41c8-8ea2-ad3cce477bc4",
   "metadata": {},
   "outputs": [],
   "source": [
    "from data_frames.quantize import quantize\n",
    "import pandas as pd\n",
    "import joblib\n",
    "import matplotlib.pyplot as plt\n",
    "\n",
    "df = pd.read_csv('output_all.csv')\n",
    "\n",
    "kbd = Quantize(df)\n",
    "\n",
    "df_feature1 = df.iloc[:, [2]] #column 2 is the feature \"abc\"\n",
    "\n",
    "fitted_df = scale.fit(df_feature1) \n",
    "\n",
    "\n",
    "# Save the model\n",
    "scale.save(\"model_directory\")\n",
    "\n",
    "\n",
    "# Later, load the model\n",
    "loaded_scale = scale.load(\"model_directory\")\n",
    "# Use the loaded model for inference\n",
    "df_inference = pd.read_csv('ten_inf_numeric.csv')\n",
    "df_inference1 = df_inference.iloc[:, [3]] #column 2 is the feature \"abc\"\n",
    "\n",
    "\n",
    "result = loaded_scale.inference(df_inference1)\n",
    "result.to_csv('new_inference_scaled.csv', index=False)\n",
    "\n"
   ]
  }
 ],
 "metadata": {
  "kernelspec": {
   "display_name": "Python 3 (ipykernel)",
   "language": "python",
   "name": "python3"
  },
  "language_info": {
   "codemirror_mode": {
    "name": "ipython",
    "version": 3
   },
   "file_extension": ".py",
   "mimetype": "text/x-python",
   "name": "python",
   "nbconvert_exporter": "python",
   "pygments_lexer": "ipython3",
   "version": "3.13.5"
  }
 },
 "nbformat": 4,
 "nbformat_minor": 5
}
